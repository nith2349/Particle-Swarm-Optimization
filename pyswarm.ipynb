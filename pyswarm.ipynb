{
  "nbformat": 4,
  "nbformat_minor": 0,
  "metadata": {
    "colab": {
      "provenance": []
    },
    "kernelspec": {
      "name": "python3",
      "display_name": "Python 3"
    },
    "language_info": {
      "name": "python"
    }
  },
  "cells": [
    {
      "cell_type": "code",
      "source": [
        "pip install pyswarm"
      ],
      "metadata": {
        "colab": {
          "base_uri": "https://localhost:8080/"
        },
        "id": "6daOaVbQSvAv",
        "outputId": "e2257f4b-2528-42ed-9836-2238247361a5"
      },
      "execution_count": null,
      "outputs": [
        {
          "output_type": "stream",
          "name": "stdout",
          "text": [
            "Looking in indexes: https://pypi.org/simple, https://us-python.pkg.dev/colab-wheels/public/simple/\n",
            "Collecting pyswarm\n",
            "  Downloading pyswarm-0.6.tar.gz (4.3 kB)\n",
            "  Preparing metadata (setup.py) ... \u001b[?25l\u001b[?25hdone\n",
            "Requirement already satisfied: numpy in /usr/local/lib/python3.9/dist-packages (from pyswarm) (1.22.4)\n",
            "Building wheels for collected packages: pyswarm\n",
            "  Building wheel for pyswarm (setup.py) ... \u001b[?25l\u001b[?25hdone\n",
            "  Created wheel for pyswarm: filename=pyswarm-0.6-py3-none-any.whl size=4478 sha256=7adf3f1e04880d6b3bece4e15d625ada6709f9d04e866dfce5434c8bda80a64f\n",
            "  Stored in directory: /root/.cache/pip/wheels/ff/d2/b7/80118e5698de2bd0b8d1b3397abf7fdfc45c15ffc454b52145\n",
            "Successfully built pyswarm\n",
            "Installing collected packages: pyswarm\n",
            "Successfully installed pyswarm-0.6\n"
          ]
        }
      ]
    },
    {
      "cell_type": "code",
      "source": [
        "import numpy as np\n",
        "from pyswarm import pso\n",
        "\n",
        "# Define the function to be optimized\n",
        "def vlsi_objective(x):\n",
        "    # Extract the input variables\n",
        "    size = x[0]\n",
        "    voltage = x[1]\n",
        "\n",
        "    # Define the performance and power consumption equations\n",
        "    delay = size * voltage ** 2\n",
        "    power = size * voltage ** 3\n",
        "\n",
        "    # Define the constraints\n",
        "    max_delay = 10.0\n",
        "    min_power = 1.0\n",
        "\n",
        "    # Compute the objective function\n",
        "    delay_penalty = max(0.0, max_delay-delay)\n",
        "    power_penalty = max(0.0, power-min_power)\n",
        "    objective = delay_penalty + power_penalty\n",
        "\n",
        "    return objective\n",
        "\n",
        "# Define the bounds of the input variables\n",
        "lb = [0.1, 0.5]\n",
        "ub = [1.0, 1.5]\n",
        "\n",
        "# Use the Particle Swarm Optimization (PSO) algorithm to minimize the objective function\n",
        "xopt, fopt = pso(vlsi_objective, lb, ub, swarmsize=100, maxiter=100)\n",
        "\n",
        "# Print the optimal solution and objective value\n",
        "print(\"Optimal solution: x = \", xopt)\n",
        "print(\"Objective value: f(x) = \", fopt)\n"
      ],
      "metadata": {
        "colab": {
          "base_uri": "https://localhost:8080/"
        },
        "id": "eKQKoAXsWHzs",
        "outputId": "f3c7496c-1503-48ee-cd9b-9af931c55656"
      },
      "execution_count": null,
      "outputs": [
        {
          "output_type": "stream",
          "name": "stdout",
          "text": [
            "Stopping search: Swarm best objective change less than 1e-08\n",
            "Optimal solution: x =  [1.         1.00000067]\n",
            "Objective value: f(x) =  9.000000667458924\n"
          ]
        }
      ]
    },
    {
      "cell_type": "code",
      "source": [
        "import numpy as np\n",
        "from pyswarm import pso\n",
        "\n",
        "# Define the objective function\n",
        "def objective_function(x):\n",
        "    # Your code here to compute the objective function based on the input variables x\n",
        "    return x[0]**2 + x[1]**2 + x[2]**2\n",
        "\n",
        "# Define the bounds for each input variable\n",
        "lb = [0, 0, 0]    # lower bounds\n",
        "ub = [10, 10, 10] # upper bounds\n",
        "\n",
        "# Define the number of input variables\n",
        "nvars = len(lb)\n",
        "\n",
        "# Use the Particle Swarm Optimization (PSO) algorithm to minimize the objective function\n",
        "xopt, fopt = pso(objective_function, lb, ub, swarmsize=100, maxiter=100)\n",
        "\n",
        "# Print the optimal solution and objective value\n",
        "print(\"Optimal solution: x = \", xopt)\n",
        "print(\"Objective value: f(x) = \", fopt)"
      ],
      "metadata": {
        "colab": {
          "base_uri": "https://localhost:8080/"
        },
        "id": "wQNv20FJYNxD",
        "outputId": "3edd2b06-87a4-44ed-db1e-f441c80bdb93"
      },
      "execution_count": null,
      "outputs": [
        {
          "output_type": "stream",
          "name": "stdout",
          "text": [
            "Stopping search: maximum iterations reached --> 100\n",
            "Optimal solution: x =  [0. 0. 0.]\n",
            "Objective value: f(x) =  0.0\n"
          ]
        }
      ]
    },
    {
      "cell_type": "code",
      "source": [],
      "metadata": {
        "id": "25LCY6KtbH5t"
      },
      "execution_count": null,
      "outputs": []
    }
  ]
}